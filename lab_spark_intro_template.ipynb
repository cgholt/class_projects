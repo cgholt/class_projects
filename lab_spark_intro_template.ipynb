{
 "cells": [
  {
   "cell_type": "markdown",
   "metadata": {},
   "source": [
    "# Lab - Introduction to Spark"
   ]
  },
  {
   "cell_type": "markdown",
   "metadata": {},
   "source": [
    "The purpose of this lab is to get some experience with Spark. \n"
   ]
  },
  {
   "cell_type": "code",
   "execution_count": 1,
   "metadata": {
    "collapsed": true
   },
   "outputs": [],
   "source": [
    "import re\n",
    "import numpy as np\n",
    "import pyspark"
   ]
  },
  {
   "cell_type": "code",
   "execution_count": 2,
   "metadata": {},
   "outputs": [
    {
     "name": "stdout",
     "output_type": "stream",
     "text": [
      "env: JAVA_HOME=/usr/lib/jvm/java-8-openjdk-amd64\n"
     ]
    }
   ],
   "source": [
    "# pyspark works best with java8 \n",
    "# set JAVA_HOME enviroment variable to java8 path \n",
    "%env JAVA_HOME = /usr/lib/jvm/java-8-openjdk-amd64"
   ]
  },
  {
   "cell_type": "code",
   "execution_count": 3,
   "metadata": {
    "collapsed": true
   },
   "outputs": [],
   "source": [
    "sc = pyspark.SparkContext()"
   ]
  },
  {
   "cell_type": "markdown",
   "metadata": {},
   "source": [
    "## Completing a Spark Program"
   ]
  },
  {
   "cell_type": "markdown",
   "metadata": {},
   "source": [
    "We are going to use a subset of the 20 Newsgroups dataset http://qwone.com/~jason/20Newsgroups/\n",
    "\n",
    "This dataset is from back in the day when there were electronic \"bulletin board\" discussions on different topics on Usenet.\n",
    "\n",
    "The data file we will use is `20-news-same-line-small.txt`\n",
    "\n",
    "Load the data into an RDD and take a peek at it."
   ]
  },
  {
   "cell_type": "code",
   "execution_count": 4,
   "metadata": {
    "collapsed": true
   },
   "outputs": [],
   "source": [
    "corpus = sc.textFile('data/20-news-same-line-small.txt')"
   ]
  },
  {
   "cell_type": "code",
   "execution_count": 6,
   "metadata": {},
   "outputs": [
    {
     "data": {
      "text/plain": [
       "['<doc id=\"20_newsgroups/comp.graphics/37261\" url=\"\" title=\"20_newsgroups/comp.graphics/37261\"> From: lipman@oasys.dt.navy.mil (Robert Lipman) Subject: CALL FOR PRESENTATIONS: Navy SciViz/VR Seminar Date: 19 Mar 93 20:10:23 GMT Distribution: usa Lines: 65   CALL FOR PRESENTATIONS  NAVY SCIENTIFIC VISUALIZATION AND VIRTUAL REALITY SEMINAR  Tuesday, June 22, 1993  Carderock Division, Naval Surface Warfare Center formerly the David Taylor Research Center) Bethesda, Maryland  SPONSOR: NESS (Navy Engineering Software System) is sponsoring a  one-day Navy Scientific Visualization and Virtual Reality Seminar.   The purpose of the seminar is to present and exchange information for Navy-related scientific visualization and virtual reality programs,  research, developments, and applications.  PRESENTATIONS: Presentations are solicited on all aspects of  Navy-related scientific visualization and virtual reality.  All  current work, works-in-progress, and proposed work by Navy  organizations will be considered.  Four types of presentations are  available.  Regular presentation: 20-30 minutes in length Short presentation: 10 minutes in length Video presentation: a stand-alone videotape (author need not  attend the seminar) Scientific visualization or virtual reality demonstration (BYOH)  Accepted presentations will not be published in any proceedings,  however, viewgraphs and other materials will be reproduced for  seminar attendees.  ABSTRACTS: Authors should submit a one page abstract and/or videotape to:  Robert Lipman Naval Surface Warfare Center, Carderock Division Code 2042 Bethesda, Maryland  20084-5000  VOICE  227-3618;  FAX  227-5753   E-MAIL  lipman@oasys.dt.navy.mil  Authors should include the type of presentation, their affiliations,  addresses, telephone and FAX numbers, and addresses.  Multi-author  papers should designate one point of contact.  DEADLINES: The abstact submission deadline is April 30, 1993.   Notification of acceptance will be sent by May 14, 1993.   Materials for reproduction must be received by June 1, 1993.  For further information, contact Robert Lipman at the above address.  PLEASE DISTRIBUTE AS WIDELY AS POSSIBLE, THANKS.     Robert Lipman                     | Internet: lipman@oasys.dt.navy.mil David Taylor Model Basin - CDNSWC |       or: lip@ocean.dt.navy.mil Computational Signatures and      | Voicenet:  227-3618 Structures Group, Code 2042    | Factsnet:  227-5753 Bethesda, Maryland  20084-5000    | Phishnet: stockings@long.legs  The sixth sick shiek\\'s sixth sheep\\'s sick. </doc> ',\n",
       " '<doc id=\"20_newsgroups/comp.graphics/37913\" url=\"\" title=\"20_newsgroups/comp.graphics/37913\"> From: weston@ucssun1.sdsu.edu (weston t) Subject: graphical representation of vector-valued functions Date: 5 Apr 1993 20:22:28 GMT Lines: 13  gnuplot, etc. make it easy to plot real valued functions of 2 variables but I want to plot functions whose values are 2-vectors. I have been  doing this by plotting arrays of arrows (complete with arrowheads) but before going further, I thought I would ask whether someone has already done the work. Any pointers??  thanx in advance   Tom Weston                    | USENET: weston@ucssun1.sdsu.edu Department of Philosophy      |  594-6218 (office) San Diego State Univ.         |  575-7477 (home) San Diego, CA 92182-0303      |  </doc> ',\n",
       " '<doc id=\"20_newsgroups/comp.graphics/37914\" url=\"\" title=\"20_newsgroups/comp.graphics/37914\"> From: rap@coconut.cis.ufl.edu (Ryan Porter) Subject: Re: DMORPH Date: 6 Apr 93 01:14:31 GMT Lines: 34  In article  jna8182@ucs.usl.edu (Armstrong Jay N) writes: Can someone please tell me where I can ftp DTA or DMORPH?  DMorf (Dave\\'s Morph, I think is what it means) and DTax (Dave\\'s  TGA Assembler) are available in the MSDOS_UPLOADS directory on the wuarchive.  They are arjed and bundled with their respective xmemory versions, dmorfx.exe and dtax.exe, you can also find a version of aaplay.exe there, with which you can view files you create with dta.exe or dtax.exe.  I downloaded the whole bunch last week and have been morphing  away the afternoons since.  The programmes are all a bit buggy and definitely not-ready-to-spread-to-the-masses, but they are very well written.   The interface is frustrating at first, but it gets easy once you figure out the tricks.  I have noticed that dmorfx will crash horribly if you try to morph without using the splines option.  Not sure why, since I don\\'t have the source.  I think it was written for TP 6.0.  If anyone else comes up with any other hints on getting the thing  to work right, tell me; it took me several hours the first time just to figure out that if I just used the durned splines then  it would work...  JNA jna8182@usl.edu  Ryan rap@cis.ufl.edu </doc> ']"
      ]
     },
     "execution_count": 6,
     "metadata": {},
     "output_type": "execute_result"
    }
   ],
   "source": [
    "corpus.take(3)"
   ]
  },
  {
   "cell_type": "markdown",
   "metadata": {},
   "source": [
    "The documents in this text file are represented in `XML` format. \n",
    "\n",
    "Each document is represented with a `<doc>` tag with attributes `id`, `url`, and `title`.\n",
    "\n",
    "The news text of each document is represented as the element of the `<doc>` tag.  "
   ]
  },
  {
   "cell_type": "code",
   "execution_count": 7,
   "metadata": {},
   "outputs": [
    {
     "data": {
      "text/plain": [
       "1000"
      ]
     },
     "execution_count": 7,
     "metadata": {},
     "output_type": "execute_result"
    }
   ],
   "source": [
    "# how many news/documents/lines?\n",
    "corpus.count()"
   ]
  },
  {
   "cell_type": "markdown",
   "metadata": {},
   "source": [
    "There are 1000 lines in this file, each corresponding to a different text document. \n",
    "\n",
    "The goal here is to build, as an RDD, a dictionary. The dictionary will have as its key a number from 0 to 19,999 (this is a rank) and the value is the word corresponding to that rank. The words will be ranked according to their frequency in the corpus, with 0 being the most frequent and 19,999 being the 20-thousandth-most frequent.\n",
    "\n",
    "Take a look at the below code. "
   ]
  },
  {
   "cell_type": "code",
   "execution_count": 8,
   "metadata": {},
   "outputs": [
    {
     "data": {
      "text/plain": [
       "pyspark.rdd.PipelinedRDD"
      ]
     },
     "execution_count": 8,
     "metadata": {},
     "output_type": "execute_result"
    }
   ],
   "source": [
    "# each entry in validLines will be a \"valid\" line from the text file that should contain \"id\" \n",
    "validLines = corpus.filter(lambda x : 'id' in x)\n",
    "\n",
    "# what is the type of validLines?\n",
    "type(validLines)"
   ]
  },
  {
   "cell_type": "code",
   "execution_count": 9,
   "metadata": {},
   "outputs": [
    {
     "data": {
      "text/plain": [
       "['<doc id=\"20_newsgroups/comp.graphics/37261\" url=\"\" title=\"20_newsgroups/comp.graphics/37261\"> From: lipman@oasys.dt.navy.mil (Robert Lipman) Subject: CALL FOR PRESENTATIONS: Navy SciViz/VR Seminar Date: 19 Mar 93 20:10:23 GMT Distribution: usa Lines: 65   CALL FOR PRESENTATIONS  NAVY SCIENTIFIC VISUALIZATION AND VIRTUAL REALITY SEMINAR  Tuesday, June 22, 1993  Carderock Division, Naval Surface Warfare Center formerly the David Taylor Research Center) Bethesda, Maryland  SPONSOR: NESS (Navy Engineering Software System) is sponsoring a  one-day Navy Scientific Visualization and Virtual Reality Seminar.   The purpose of the seminar is to present and exchange information for Navy-related scientific visualization and virtual reality programs,  research, developments, and applications.  PRESENTATIONS: Presentations are solicited on all aspects of  Navy-related scientific visualization and virtual reality.  All  current work, works-in-progress, and proposed work by Navy  organizations will be considered.  Four types of presentations are  available.  Regular presentation: 20-30 minutes in length Short presentation: 10 minutes in length Video presentation: a stand-alone videotape (author need not  attend the seminar) Scientific visualization or virtual reality demonstration (BYOH)  Accepted presentations will not be published in any proceedings,  however, viewgraphs and other materials will be reproduced for  seminar attendees.  ABSTRACTS: Authors should submit a one page abstract and/or videotape to:  Robert Lipman Naval Surface Warfare Center, Carderock Division Code 2042 Bethesda, Maryland  20084-5000  VOICE  227-3618;  FAX  227-5753   E-MAIL  lipman@oasys.dt.navy.mil  Authors should include the type of presentation, their affiliations,  addresses, telephone and FAX numbers, and addresses.  Multi-author  papers should designate one point of contact.  DEADLINES: The abstact submission deadline is April 30, 1993.   Notification of acceptance will be sent by May 14, 1993.   Materials for reproduction must be received by June 1, 1993.  For further information, contact Robert Lipman at the above address.  PLEASE DISTRIBUTE AS WIDELY AS POSSIBLE, THANKS.     Robert Lipman                     | Internet: lipman@oasys.dt.navy.mil David Taylor Model Basin - CDNSWC |       or: lip@ocean.dt.navy.mil Computational Signatures and      | Voicenet:  227-3618 Structures Group, Code 2042    | Factsnet:  227-5753 Bethesda, Maryland  20084-5000    | Phishnet: stockings@long.legs  The sixth sick shiek\\'s sixth sheep\\'s sick. </doc> ',\n",
       " '<doc id=\"20_newsgroups/comp.graphics/37913\" url=\"\" title=\"20_newsgroups/comp.graphics/37913\"> From: weston@ucssun1.sdsu.edu (weston t) Subject: graphical representation of vector-valued functions Date: 5 Apr 1993 20:22:28 GMT Lines: 13  gnuplot, etc. make it easy to plot real valued functions of 2 variables but I want to plot functions whose values are 2-vectors. I have been  doing this by plotting arrays of arrows (complete with arrowheads) but before going further, I thought I would ask whether someone has already done the work. Any pointers??  thanx in advance   Tom Weston                    | USENET: weston@ucssun1.sdsu.edu Department of Philosophy      |  594-6218 (office) San Diego State Univ.         |  575-7477 (home) San Diego, CA 92182-0303      |  </doc> ',\n",
       " '<doc id=\"20_newsgroups/comp.graphics/37914\" url=\"\" title=\"20_newsgroups/comp.graphics/37914\"> From: rap@coconut.cis.ufl.edu (Ryan Porter) Subject: Re: DMORPH Date: 6 Apr 93 01:14:31 GMT Lines: 34  In article  jna8182@ucs.usl.edu (Armstrong Jay N) writes: Can someone please tell me where I can ftp DTA or DMORPH?  DMorf (Dave\\'s Morph, I think is what it means) and DTax (Dave\\'s  TGA Assembler) are available in the MSDOS_UPLOADS directory on the wuarchive.  They are arjed and bundled with their respective xmemory versions, dmorfx.exe and dtax.exe, you can also find a version of aaplay.exe there, with which you can view files you create with dta.exe or dtax.exe.  I downloaded the whole bunch last week and have been morphing  away the afternoons since.  The programmes are all a bit buggy and definitely not-ready-to-spread-to-the-masses, but they are very well written.   The interface is frustrating at first, but it gets easy once you figure out the tricks.  I have noticed that dmorfx will crash horribly if you try to morph without using the splines option.  Not sure why, since I don\\'t have the source.  I think it was written for TP 6.0.  If anyone else comes up with any other hints on getting the thing  to work right, tell me; it took me several hours the first time just to figure out that if I just used the durned splines then  it would work...  JNA jna8182@usl.edu  Ryan rap@cis.ufl.edu </doc> ']"
      ]
     },
     "execution_count": 9,
     "metadata": {},
     "output_type": "execute_result"
    }
   ],
   "source": [
    "# see first 3 elements\n",
    "validLines.take(3)"
   ]
  },
  {
   "cell_type": "markdown",
   "metadata": {},
   "source": [
    "Extract `id` as the key of each line, and all the text represented in the `<doc>` element as the text of each line.  "
   ]
  },
  {
   "cell_type": "code",
   "execution_count": 10,
   "metadata": {},
   "outputs": [
    {
     "data": {
      "text/plain": [
       "pyspark.rdd.PipelinedRDD"
      ]
     },
     "execution_count": 10,
     "metadata": {},
     "output_type": "execute_result"
    }
   ],
   "source": [
    "# transform into a bunch of (docID, text) pairs\n",
    "keyAndText = validLines.map(lambda x : (x[x.index('id=\"') + 4 : x.index('\" url=')], x[x.index('\"> ') + 3:x.index(' </doc>')]))\n",
    "\n",
    "# what is the type of keyAndText?\n",
    "type(keyAndText)"
   ]
  },
  {
   "cell_type": "code",
   "execution_count": 11,
   "metadata": {},
   "outputs": [
    {
     "data": {
      "text/plain": [
       "[('20_newsgroups/comp.graphics/37261',\n",
       "  \"From: lipman@oasys.dt.navy.mil (Robert Lipman) Subject: CALL FOR PRESENTATIONS: Navy SciViz/VR Seminar Date: 19 Mar 93 20:10:23 GMT Distribution: usa Lines: 65   CALL FOR PRESENTATIONS  NAVY SCIENTIFIC VISUALIZATION AND VIRTUAL REALITY SEMINAR  Tuesday, June 22, 1993  Carderock Division, Naval Surface Warfare Center formerly the David Taylor Research Center) Bethesda, Maryland  SPONSOR: NESS (Navy Engineering Software System) is sponsoring a  one-day Navy Scientific Visualization and Virtual Reality Seminar.   The purpose of the seminar is to present and exchange information for Navy-related scientific visualization and virtual reality programs,  research, developments, and applications.  PRESENTATIONS: Presentations are solicited on all aspects of  Navy-related scientific visualization and virtual reality.  All  current work, works-in-progress, and proposed work by Navy  organizations will be considered.  Four types of presentations are  available.  Regular presentation: 20-30 minutes in length Short presentation: 10 minutes in length Video presentation: a stand-alone videotape (author need not  attend the seminar) Scientific visualization or virtual reality demonstration (BYOH)  Accepted presentations will not be published in any proceedings,  however, viewgraphs and other materials will be reproduced for  seminar attendees.  ABSTRACTS: Authors should submit a one page abstract and/or videotape to:  Robert Lipman Naval Surface Warfare Center, Carderock Division Code 2042 Bethesda, Maryland  20084-5000  VOICE  227-3618;  FAX  227-5753   E-MAIL  lipman@oasys.dt.navy.mil  Authors should include the type of presentation, their affiliations,  addresses, telephone and FAX numbers, and addresses.  Multi-author  papers should designate one point of contact.  DEADLINES: The abstact submission deadline is April 30, 1993.   Notification of acceptance will be sent by May 14, 1993.   Materials for reproduction must be received by June 1, 1993.  For further information, contact Robert Lipman at the above address.  PLEASE DISTRIBUTE AS WIDELY AS POSSIBLE, THANKS.     Robert Lipman                     | Internet: lipman@oasys.dt.navy.mil David Taylor Model Basin - CDNSWC |       or: lip@ocean.dt.navy.mil Computational Signatures and      | Voicenet:  227-3618 Structures Group, Code 2042    | Factsnet:  227-5753 Bethesda, Maryland  20084-5000    | Phishnet: stockings@long.legs  The sixth sick shiek's sixth sheep's sick.\"),\n",
       " ('20_newsgroups/comp.graphics/37913',\n",
       "  'From: weston@ucssun1.sdsu.edu (weston t) Subject: graphical representation of vector-valued functions Date: 5 Apr 1993 20:22:28 GMT Lines: 13  gnuplot, etc. make it easy to plot real valued functions of 2 variables but I want to plot functions whose values are 2-vectors. I have been  doing this by plotting arrays of arrows (complete with arrowheads) but before going further, I thought I would ask whether someone has already done the work. Any pointers??  thanx in advance   Tom Weston                    | USENET: weston@ucssun1.sdsu.edu Department of Philosophy      |  594-6218 (office) San Diego State Univ.         |  575-7477 (home) San Diego, CA 92182-0303      | '),\n",
       " ('20_newsgroups/comp.graphics/37914',\n",
       "  \"From: rap@coconut.cis.ufl.edu (Ryan Porter) Subject: Re: DMORPH Date: 6 Apr 93 01:14:31 GMT Lines: 34  In article  jna8182@ucs.usl.edu (Armstrong Jay N) writes: Can someone please tell me where I can ftp DTA or DMORPH?  DMorf (Dave's Morph, I think is what it means) and DTax (Dave's  TGA Assembler) are available in the MSDOS_UPLOADS directory on the wuarchive.  They are arjed and bundled with their respective xmemory versions, dmorfx.exe and dtax.exe, you can also find a version of aaplay.exe there, with which you can view files you create with dta.exe or dtax.exe.  I downloaded the whole bunch last week and have been morphing  away the afternoons since.  The programmes are all a bit buggy and definitely not-ready-to-spread-to-the-masses, but they are very well written.   The interface is frustrating at first, but it gets easy once you figure out the tricks.  I have noticed that dmorfx will crash horribly if you try to morph without using the splines option.  Not sure why, since I don't have the source.  I think it was written for TP 6.0.  If anyone else comes up with any other hints on getting the thing  to work right, tell me; it took me several hours the first time just to figure out that if I just used the durned splines then  it would work...  JNA jna8182@usl.edu  Ryan rap@cis.ufl.edu\")]"
      ]
     },
     "execution_count": 11,
     "metadata": {},
     "output_type": "execute_result"
    }
   ],
   "source": [
    "# see first 3 elements\n",
    "keyAndText.take(3)"
   ]
  },
  {
   "cell_type": "code",
   "execution_count": 12,
   "metadata": {},
   "outputs": [
    {
     "data": {
      "text/plain": [
       "pyspark.rdd.PipelinedRDD"
      ]
     },
     "execution_count": 12,
     "metadata": {},
     "output_type": "execute_result"
    }
   ],
   "source": [
    "# now we split the text in each (docID, text) pair into a list of words\n",
    "# we have a bit of fancy regular expression stuff here to make sure that we do not die on some of the documents\n",
    "# after this, we have a data set with (docID, [\"word1\", \"word2\", \"word3\", ...])\n",
    "regex = re.compile('[^a-zA-Z]')\n",
    "keyAndListOfWords = keyAndText.map(lambda x : (str(x[0]), regex.sub(' ', x[1]).lower().split()))\n",
    "\n",
    "# what is the type of keyAndListOfWords?\n",
    "type(keyAndListOfWords)"
   ]
  },
  {
   "cell_type": "code",
   "execution_count": 13,
   "metadata": {},
   "outputs": [
    {
     "data": {
      "text/plain": [
       "[('20_newsgroups/comp.graphics/37261',\n",
       "  ['from',\n",
       "   'lipman',\n",
       "   'oasys',\n",
       "   'dt',\n",
       "   'navy',\n",
       "   'mil',\n",
       "   'robert',\n",
       "   'lipman',\n",
       "   'subject',\n",
       "   'call',\n",
       "   'for',\n",
       "   'presentations',\n",
       "   'navy',\n",
       "   'sciviz',\n",
       "   'vr',\n",
       "   'seminar',\n",
       "   'date',\n",
       "   'mar',\n",
       "   'gmt',\n",
       "   'distribution',\n",
       "   'usa',\n",
       "   'lines',\n",
       "   'call',\n",
       "   'for',\n",
       "   'presentations',\n",
       "   'navy',\n",
       "   'scientific',\n",
       "   'visualization',\n",
       "   'and',\n",
       "   'virtual',\n",
       "   'reality',\n",
       "   'seminar',\n",
       "   'tuesday',\n",
       "   'june',\n",
       "   'carderock',\n",
       "   'division',\n",
       "   'naval',\n",
       "   'surface',\n",
       "   'warfare',\n",
       "   'center',\n",
       "   'formerly',\n",
       "   'the',\n",
       "   'david',\n",
       "   'taylor',\n",
       "   'research',\n",
       "   'center',\n",
       "   'bethesda',\n",
       "   'maryland',\n",
       "   'sponsor',\n",
       "   'ness',\n",
       "   'navy',\n",
       "   'engineering',\n",
       "   'software',\n",
       "   'system',\n",
       "   'is',\n",
       "   'sponsoring',\n",
       "   'a',\n",
       "   'one',\n",
       "   'day',\n",
       "   'navy',\n",
       "   'scientific',\n",
       "   'visualization',\n",
       "   'and',\n",
       "   'virtual',\n",
       "   'reality',\n",
       "   'seminar',\n",
       "   'the',\n",
       "   'purpose',\n",
       "   'of',\n",
       "   'the',\n",
       "   'seminar',\n",
       "   'is',\n",
       "   'to',\n",
       "   'present',\n",
       "   'and',\n",
       "   'exchange',\n",
       "   'information',\n",
       "   'for',\n",
       "   'navy',\n",
       "   'related',\n",
       "   'scientific',\n",
       "   'visualization',\n",
       "   'and',\n",
       "   'virtual',\n",
       "   'reality',\n",
       "   'programs',\n",
       "   'research',\n",
       "   'developments',\n",
       "   'and',\n",
       "   'applications',\n",
       "   'presentations',\n",
       "   'presentations',\n",
       "   'are',\n",
       "   'solicited',\n",
       "   'on',\n",
       "   'all',\n",
       "   'aspects',\n",
       "   'of',\n",
       "   'navy',\n",
       "   'related',\n",
       "   'scientific',\n",
       "   'visualization',\n",
       "   'and',\n",
       "   'virtual',\n",
       "   'reality',\n",
       "   'all',\n",
       "   'current',\n",
       "   'work',\n",
       "   'works',\n",
       "   'in',\n",
       "   'progress',\n",
       "   'and',\n",
       "   'proposed',\n",
       "   'work',\n",
       "   'by',\n",
       "   'navy',\n",
       "   'organizations',\n",
       "   'will',\n",
       "   'be',\n",
       "   'considered',\n",
       "   'four',\n",
       "   'types',\n",
       "   'of',\n",
       "   'presentations',\n",
       "   'are',\n",
       "   'available',\n",
       "   'regular',\n",
       "   'presentation',\n",
       "   'minutes',\n",
       "   'in',\n",
       "   'length',\n",
       "   'short',\n",
       "   'presentation',\n",
       "   'minutes',\n",
       "   'in',\n",
       "   'length',\n",
       "   'video',\n",
       "   'presentation',\n",
       "   'a',\n",
       "   'stand',\n",
       "   'alone',\n",
       "   'videotape',\n",
       "   'author',\n",
       "   'need',\n",
       "   'not',\n",
       "   'attend',\n",
       "   'the',\n",
       "   'seminar',\n",
       "   'scientific',\n",
       "   'visualization',\n",
       "   'or',\n",
       "   'virtual',\n",
       "   'reality',\n",
       "   'demonstration',\n",
       "   'byoh',\n",
       "   'accepted',\n",
       "   'presentations',\n",
       "   'will',\n",
       "   'not',\n",
       "   'be',\n",
       "   'published',\n",
       "   'in',\n",
       "   'any',\n",
       "   'proceedings',\n",
       "   'however',\n",
       "   'viewgraphs',\n",
       "   'and',\n",
       "   'other',\n",
       "   'materials',\n",
       "   'will',\n",
       "   'be',\n",
       "   'reproduced',\n",
       "   'for',\n",
       "   'seminar',\n",
       "   'attendees',\n",
       "   'abstracts',\n",
       "   'authors',\n",
       "   'should',\n",
       "   'submit',\n",
       "   'a',\n",
       "   'one',\n",
       "   'page',\n",
       "   'abstract',\n",
       "   'and',\n",
       "   'or',\n",
       "   'videotape',\n",
       "   'to',\n",
       "   'robert',\n",
       "   'lipman',\n",
       "   'naval',\n",
       "   'surface',\n",
       "   'warfare',\n",
       "   'center',\n",
       "   'carderock',\n",
       "   'division',\n",
       "   'code',\n",
       "   'bethesda',\n",
       "   'maryland',\n",
       "   'voice',\n",
       "   'fax',\n",
       "   'e',\n",
       "   'mail',\n",
       "   'lipman',\n",
       "   'oasys',\n",
       "   'dt',\n",
       "   'navy',\n",
       "   'mil',\n",
       "   'authors',\n",
       "   'should',\n",
       "   'include',\n",
       "   'the',\n",
       "   'type',\n",
       "   'of',\n",
       "   'presentation',\n",
       "   'their',\n",
       "   'affiliations',\n",
       "   'addresses',\n",
       "   'telephone',\n",
       "   'and',\n",
       "   'fax',\n",
       "   'numbers',\n",
       "   'and',\n",
       "   'addresses',\n",
       "   'multi',\n",
       "   'author',\n",
       "   'papers',\n",
       "   'should',\n",
       "   'designate',\n",
       "   'one',\n",
       "   'point',\n",
       "   'of',\n",
       "   'contact',\n",
       "   'deadlines',\n",
       "   'the',\n",
       "   'abstact',\n",
       "   'submission',\n",
       "   'deadline',\n",
       "   'is',\n",
       "   'april',\n",
       "   'notification',\n",
       "   'of',\n",
       "   'acceptance',\n",
       "   'will',\n",
       "   'be',\n",
       "   'sent',\n",
       "   'by',\n",
       "   'may',\n",
       "   'materials',\n",
       "   'for',\n",
       "   'reproduction',\n",
       "   'must',\n",
       "   'be',\n",
       "   'received',\n",
       "   'by',\n",
       "   'june',\n",
       "   'for',\n",
       "   'further',\n",
       "   'information',\n",
       "   'contact',\n",
       "   'robert',\n",
       "   'lipman',\n",
       "   'at',\n",
       "   'the',\n",
       "   'above',\n",
       "   'address',\n",
       "   'please',\n",
       "   'distribute',\n",
       "   'as',\n",
       "   'widely',\n",
       "   'as',\n",
       "   'possible',\n",
       "   'thanks',\n",
       "   'robert',\n",
       "   'lipman',\n",
       "   'internet',\n",
       "   'lipman',\n",
       "   'oasys',\n",
       "   'dt',\n",
       "   'navy',\n",
       "   'mil',\n",
       "   'david',\n",
       "   'taylor',\n",
       "   'model',\n",
       "   'basin',\n",
       "   'cdnswc',\n",
       "   'or',\n",
       "   'lip',\n",
       "   'ocean',\n",
       "   'dt',\n",
       "   'navy',\n",
       "   'mil',\n",
       "   'computational',\n",
       "   'signatures',\n",
       "   'and',\n",
       "   'voicenet',\n",
       "   'structures',\n",
       "   'group',\n",
       "   'code',\n",
       "   'factsnet',\n",
       "   'bethesda',\n",
       "   'maryland',\n",
       "   'phishnet',\n",
       "   'stockings',\n",
       "   'long',\n",
       "   'legs',\n",
       "   'the',\n",
       "   'sixth',\n",
       "   'sick',\n",
       "   'shiek',\n",
       "   's',\n",
       "   'sixth',\n",
       "   'sheep',\n",
       "   's',\n",
       "   'sick']),\n",
       " ('20_newsgroups/comp.graphics/37913',\n",
       "  ['from',\n",
       "   'weston',\n",
       "   'ucssun',\n",
       "   'sdsu',\n",
       "   'edu',\n",
       "   'weston',\n",
       "   't',\n",
       "   'subject',\n",
       "   'graphical',\n",
       "   'representation',\n",
       "   'of',\n",
       "   'vector',\n",
       "   'valued',\n",
       "   'functions',\n",
       "   'date',\n",
       "   'apr',\n",
       "   'gmt',\n",
       "   'lines',\n",
       "   'gnuplot',\n",
       "   'etc',\n",
       "   'make',\n",
       "   'it',\n",
       "   'easy',\n",
       "   'to',\n",
       "   'plot',\n",
       "   'real',\n",
       "   'valued',\n",
       "   'functions',\n",
       "   'of',\n",
       "   'variables',\n",
       "   'but',\n",
       "   'i',\n",
       "   'want',\n",
       "   'to',\n",
       "   'plot',\n",
       "   'functions',\n",
       "   'whose',\n",
       "   'values',\n",
       "   'are',\n",
       "   'vectors',\n",
       "   'i',\n",
       "   'have',\n",
       "   'been',\n",
       "   'doing',\n",
       "   'this',\n",
       "   'by',\n",
       "   'plotting',\n",
       "   'arrays',\n",
       "   'of',\n",
       "   'arrows',\n",
       "   'complete',\n",
       "   'with',\n",
       "   'arrowheads',\n",
       "   'but',\n",
       "   'before',\n",
       "   'going',\n",
       "   'further',\n",
       "   'i',\n",
       "   'thought',\n",
       "   'i',\n",
       "   'would',\n",
       "   'ask',\n",
       "   'whether',\n",
       "   'someone',\n",
       "   'has',\n",
       "   'already',\n",
       "   'done',\n",
       "   'the',\n",
       "   'work',\n",
       "   'any',\n",
       "   'pointers',\n",
       "   'thanx',\n",
       "   'in',\n",
       "   'advance',\n",
       "   'tom',\n",
       "   'weston',\n",
       "   'usenet',\n",
       "   'weston',\n",
       "   'ucssun',\n",
       "   'sdsu',\n",
       "   'edu',\n",
       "   'department',\n",
       "   'of',\n",
       "   'philosophy',\n",
       "   'office',\n",
       "   'san',\n",
       "   'diego',\n",
       "   'state',\n",
       "   'univ',\n",
       "   'home',\n",
       "   'san',\n",
       "   'diego',\n",
       "   'ca']),\n",
       " ('20_newsgroups/comp.graphics/37914',\n",
       "  ['from',\n",
       "   'rap',\n",
       "   'coconut',\n",
       "   'cis',\n",
       "   'ufl',\n",
       "   'edu',\n",
       "   'ryan',\n",
       "   'porter',\n",
       "   'subject',\n",
       "   're',\n",
       "   'dmorph',\n",
       "   'date',\n",
       "   'apr',\n",
       "   'gmt',\n",
       "   'lines',\n",
       "   'in',\n",
       "   'article',\n",
       "   'jna',\n",
       "   'ucs',\n",
       "   'usl',\n",
       "   'edu',\n",
       "   'armstrong',\n",
       "   'jay',\n",
       "   'n',\n",
       "   'writes',\n",
       "   'can',\n",
       "   'someone',\n",
       "   'please',\n",
       "   'tell',\n",
       "   'me',\n",
       "   'where',\n",
       "   'i',\n",
       "   'can',\n",
       "   'ftp',\n",
       "   'dta',\n",
       "   'or',\n",
       "   'dmorph',\n",
       "   'dmorf',\n",
       "   'dave',\n",
       "   's',\n",
       "   'morph',\n",
       "   'i',\n",
       "   'think',\n",
       "   'is',\n",
       "   'what',\n",
       "   'it',\n",
       "   'means',\n",
       "   'and',\n",
       "   'dtax',\n",
       "   'dave',\n",
       "   's',\n",
       "   'tga',\n",
       "   'assembler',\n",
       "   'are',\n",
       "   'available',\n",
       "   'in',\n",
       "   'the',\n",
       "   'msdos',\n",
       "   'uploads',\n",
       "   'directory',\n",
       "   'on',\n",
       "   'the',\n",
       "   'wuarchive',\n",
       "   'they',\n",
       "   'are',\n",
       "   'arjed',\n",
       "   'and',\n",
       "   'bundled',\n",
       "   'with',\n",
       "   'their',\n",
       "   'respective',\n",
       "   'xmemory',\n",
       "   'versions',\n",
       "   'dmorfx',\n",
       "   'exe',\n",
       "   'and',\n",
       "   'dtax',\n",
       "   'exe',\n",
       "   'you',\n",
       "   'can',\n",
       "   'also',\n",
       "   'find',\n",
       "   'a',\n",
       "   'version',\n",
       "   'of',\n",
       "   'aaplay',\n",
       "   'exe',\n",
       "   'there',\n",
       "   'with',\n",
       "   'which',\n",
       "   'you',\n",
       "   'can',\n",
       "   'view',\n",
       "   'files',\n",
       "   'you',\n",
       "   'create',\n",
       "   'with',\n",
       "   'dta',\n",
       "   'exe',\n",
       "   'or',\n",
       "   'dtax',\n",
       "   'exe',\n",
       "   'i',\n",
       "   'downloaded',\n",
       "   'the',\n",
       "   'whole',\n",
       "   'bunch',\n",
       "   'last',\n",
       "   'week',\n",
       "   'and',\n",
       "   'have',\n",
       "   'been',\n",
       "   'morphing',\n",
       "   'away',\n",
       "   'the',\n",
       "   'afternoons',\n",
       "   'since',\n",
       "   'the',\n",
       "   'programmes',\n",
       "   'are',\n",
       "   'all',\n",
       "   'a',\n",
       "   'bit',\n",
       "   'buggy',\n",
       "   'and',\n",
       "   'definitely',\n",
       "   'not',\n",
       "   'ready',\n",
       "   'to',\n",
       "   'spread',\n",
       "   'to',\n",
       "   'the',\n",
       "   'masses',\n",
       "   'but',\n",
       "   'they',\n",
       "   'are',\n",
       "   'very',\n",
       "   'well',\n",
       "   'written',\n",
       "   'the',\n",
       "   'interface',\n",
       "   'is',\n",
       "   'frustrating',\n",
       "   'at',\n",
       "   'first',\n",
       "   'but',\n",
       "   'it',\n",
       "   'gets',\n",
       "   'easy',\n",
       "   'once',\n",
       "   'you',\n",
       "   'figure',\n",
       "   'out',\n",
       "   'the',\n",
       "   'tricks',\n",
       "   'i',\n",
       "   'have',\n",
       "   'noticed',\n",
       "   'that',\n",
       "   'dmorfx',\n",
       "   'will',\n",
       "   'crash',\n",
       "   'horribly',\n",
       "   'if',\n",
       "   'you',\n",
       "   'try',\n",
       "   'to',\n",
       "   'morph',\n",
       "   'without',\n",
       "   'using',\n",
       "   'the',\n",
       "   'splines',\n",
       "   'option',\n",
       "   'not',\n",
       "   'sure',\n",
       "   'why',\n",
       "   'since',\n",
       "   'i',\n",
       "   'don',\n",
       "   't',\n",
       "   'have',\n",
       "   'the',\n",
       "   'source',\n",
       "   'i',\n",
       "   'think',\n",
       "   'it',\n",
       "   'was',\n",
       "   'written',\n",
       "   'for',\n",
       "   'tp',\n",
       "   'if',\n",
       "   'anyone',\n",
       "   'else',\n",
       "   'comes',\n",
       "   'up',\n",
       "   'with',\n",
       "   'any',\n",
       "   'other',\n",
       "   'hints',\n",
       "   'on',\n",
       "   'getting',\n",
       "   'the',\n",
       "   'thing',\n",
       "   'to',\n",
       "   'work',\n",
       "   'right',\n",
       "   'tell',\n",
       "   'me',\n",
       "   'it',\n",
       "   'took',\n",
       "   'me',\n",
       "   'several',\n",
       "   'hours',\n",
       "   'the',\n",
       "   'first',\n",
       "   'time',\n",
       "   'just',\n",
       "   'to',\n",
       "   'figure',\n",
       "   'out',\n",
       "   'that',\n",
       "   'if',\n",
       "   'i',\n",
       "   'just',\n",
       "   'used',\n",
       "   'the',\n",
       "   'durned',\n",
       "   'splines',\n",
       "   'then',\n",
       "   'it',\n",
       "   'would',\n",
       "   'work',\n",
       "   'jna',\n",
       "   'jna',\n",
       "   'usl',\n",
       "   'edu',\n",
       "   'ryan',\n",
       "   'rap',\n",
       "   'cis',\n",
       "   'ufl',\n",
       "   'edu'])]"
      ]
     },
     "execution_count": 13,
     "metadata": {},
     "output_type": "execute_result"
    }
   ],
   "source": [
    "keyAndListOfWords.take(3)"
   ]
  },
  {
   "cell_type": "code",
   "execution_count": 14,
   "metadata": {},
   "outputs": [
    {
     "data": {
      "text/plain": [
       "list"
      ]
     },
     "execution_count": 14,
     "metadata": {},
     "output_type": "execute_result"
    }
   ],
   "source": [
    "# now get the top 20,000 words\n",
    "\n",
    "# first change (docID, [\"word1\", \"word2\", \"word3\", ...]) to (\"word1\", 1) (\"word2\", 1) ...\n",
    "allWords = keyAndListOfWords.flatMap(lambda x: ((j, 1) for j in x[1]))\n",
    "\n",
    "# now, count all of the words, giving us (\"word1\", 1433), (\"word2\", 3423423), etc.\n",
    "allCounts = allWords.reduceByKey (lambda a, b: a + b)\n",
    "\n",
    "# and get the top 20,000 words in a local array\n",
    "# each entry is a (\"word1\", count) pair\n",
    "topWords = allCounts.top (20000, lambda x : x[1])\n",
    "\n",
    "# what is the type of topWords?\n",
    "type(topWords)"
   ]
  },
  {
   "cell_type": "code",
   "execution_count": 15,
   "metadata": {},
   "outputs": [
    {
     "data": {
      "text/plain": [
       "[('the', 8877), ('to', 5541), ('a', 5485)]"
      ]
     },
     "execution_count": 15,
     "metadata": {},
     "output_type": "execute_result"
    }
   ],
   "source": [
    "# see the first 3 elements\n",
    "topWords[:3]"
   ]
  },
  {
   "cell_type": "markdown",
   "metadata": {},
   "source": [
    "Having the `topWords` as a list of tuples with top 20000 frequent words and their frequencies, we want to create a dictionary, as an RDD, with keys as words' ranks (from 0 to 19,999) and values as words. The words will be ranked according to their frequency in the corpus, with 0 being the most frequent and 19,999 being the 20-thousandth-most frequent.  "
   ]
  },
  {
   "cell_type": "code",
   "execution_count": 16,
   "metadata": {},
   "outputs": [
    {
     "data": {
      "text/plain": [
       "pyspark.rdd.PipelinedRDD"
      ]
     },
     "execution_count": 16,
     "metadata": {},
     "output_type": "execute_result"
    }
   ],
   "source": [
    "# start by creating an RDD that has the numbers 0 thru 20000\n",
    "# 20000 is the number of words that will be in our dictionary\n",
    "twentyK = sc.parallelize(range(20000))\n",
    "\n",
    "# what is the type of twentyK?\n",
    "type(twentyK)"
   ]
  },
  {
   "cell_type": "code",
   "execution_count": 17,
   "metadata": {},
   "outputs": [
    {
     "data": {
      "text/plain": [
       "[0, 1, 2]"
      ]
     },
     "execution_count": 17,
     "metadata": {},
     "output_type": "execute_result"
    }
   ],
   "source": [
    "# see the first 3 elements\n",
    "twentyK.take(3)"
   ]
  },
  {
   "cell_type": "markdown",
   "metadata": {},
   "source": [
    "### Your Code Here\n",
    "Your task is to come up with an appropriate lambda that is going to attach the correct word to each rank in `twentyK`, putting the results into an RDD.\n",
    "\n",
    "Replace the question marks with your lambda. \n",
    "\n",
    "The key of the tuple you create and put into the RDD via the lambda should be the word; the value is the index (the number\n",
    "from 0 to 19,999). Your lambda will refer to the generated list of frequent words `topWords`.\n",
    "\n",
    "\n",
    "In other words, map the parallelized range $(0, 1, 2, \\ldots, )$ \n",
    "into a set of tuples (\"mostcommonword\", 0), (\"nextmostcommon\", 1), ...."
   ]
  },
  {
   "cell_type": "code",
   "execution_count": 34,
   "metadata": {},
   "outputs": [],
   "source": [
    "# now, we transform (0), (1), (2), ... to (\"mostcommonword\", 0) (\"nextmostcommon\", 1), ...\n",
    "# the number will be the spot in the dictionary used to tell us where the word is located\n",
    "# HINT: make use of topWords in the lambda that you supply\n",
    "dictionary = twentyK.map(lambda rank: (topWords[rank][0], rank))"
   ]
  },
  {
   "cell_type": "code",
   "execution_count": 35,
   "metadata": {},
   "outputs": [
    {
     "data": {
      "text/plain": [
       "[('the', 0),\n",
       " ('to', 1),\n",
       " ('a', 2),\n",
       " ('and', 3),\n",
       " ('of', 4),\n",
       " ('i', 5),\n",
       " ('is', 6),\n",
       " ('in', 7),\n",
       " ('for', 8),\n",
       " ('it', 9)]"
      ]
     },
     "execution_count": 35,
     "metadata": {},
     "output_type": "execute_result"
    }
   ],
   "source": [
    "# finally, print out some of the dictionary, just for debugging and to get checked off\n",
    "dictionary.take(10)"
   ]
  },
  {
   "cell_type": "markdown",
   "metadata": {},
   "source": [
    "Stop the Spark context when you are done"
   ]
  },
  {
   "cell_type": "code",
   "execution_count": 36,
   "metadata": {
    "collapsed": true
   },
   "outputs": [],
   "source": [
    "sc.stop() #commented out so that you don't stop your context by mistake"
   ]
  },
  {
   "cell_type": "markdown",
   "metadata": {},
   "source": [
    "Copyright ©2020 Christopher M Jermaine (cmj4@rice.edu), Risa B Myers  (rbm2@rice.edu), and Marmar Orooji (marmar.orooji@rice.edu)\n",
    "\n",
    "Licensed under the Apache License, Version 2.0 (the \"License\");\n",
    "you may not use this file except in compliance with the License.\n",
    "You may obtain a copy of the License at\n",
    "\n",
    "    https://www.apache.org/licenses/LICENSE-2.0\n",
    "\n",
    "Unless required by applicable law or agreed to in writing, software\n",
    "distributed under the License is distributed on an \"AS IS\" BASIS,\n",
    "WITHOUT WARRANTIES OR CONDITIONS OF ANY KIND, either express or implied.\n",
    "See the License for the specific language governing permissions and\n",
    "limitations under the License."
   ]
  }
 ],
 "metadata": {
  "kernelspec": {
   "display_name": "Python 3 [3.7]",
   "language": "python",
   "name": "python3"
  },
  "language_info": {
   "codemirror_mode": {
    "name": "ipython",
    "version": 3
   },
   "file_extension": ".py",
   "mimetype": "text/x-python",
   "name": "python",
   "nbconvert_exporter": "python",
   "pygments_lexer": "ipython3",
   "version": "3.7.5"
  }
 },
 "nbformat": 4,
 "nbformat_minor": 2
}
